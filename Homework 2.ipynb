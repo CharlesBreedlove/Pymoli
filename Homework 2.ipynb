{
 "cells": [
  {
   "cell_type": "markdown",
   "metadata": {},
   "source": [
    "# Your final report should include each of the following:\n"
   ]
  },
  {
   "cell_type": "code",
   "execution_count": 15,
   "metadata": {},
   "outputs": [],
   "source": [
    "import pandas as pd\n",
    "import numpy as np\n",
    "\n",
    "jason_path = \"HeroesOfPymoli/purchase_data.json\"\n",
    "\n",
    "orginal_df = pd.read_json(jason_path)\n"
   ]
  },
  {
   "cell_type": "code",
   "execution_count": 16,
   "metadata": {},
   "outputs": [
    {
     "data": {
      "text/html": [
       "<div>\n",
       "<style scoped>\n",
       "    .dataframe tbody tr th:only-of-type {\n",
       "        vertical-align: middle;\n",
       "    }\n",
       "\n",
       "    .dataframe tbody tr th {\n",
       "        vertical-align: top;\n",
       "    }\n",
       "\n",
       "    .dataframe thead th {\n",
       "        text-align: right;\n",
       "    }\n",
       "</style>\n",
       "<table border=\"1\" class=\"dataframe\">\n",
       "  <thead>\n",
       "    <tr style=\"text-align: right;\">\n",
       "      <th></th>\n",
       "      <th>Total Players</th>\n",
       "    </tr>\n",
       "  </thead>\n",
       "  <tbody>\n",
       "    <tr>\n",
       "      <th>0</th>\n",
       "      <td>573</td>\n",
       "    </tr>\n",
       "  </tbody>\n",
       "</table>\n",
       "</div>"
      ],
      "text/plain": [
       "   Total Players\n",
       "0            573"
      ]
     },
     "execution_count": 16,
     "metadata": {},
     "output_type": "execute_result"
    }
   ],
   "source": [
    "#Total Number of Players\n",
    "Total_numbers_of_players = {}\n",
    "\n",
    "Total_numbers_of_players['Total Players'] = orginal_df['SN'].nunique()\n",
    "pd.DataFrame(data=Total_numbers_of_players,index=[0])"
   ]
  },
  {
   "cell_type": "markdown",
   "metadata": {},
   "source": [
    "# Purchasing Analysis (Total)\n",
    "Needs Formating in table"
   ]
  },
  {
   "cell_type": "code",
   "execution_count": 17,
   "metadata": {},
   "outputs": [
    {
     "data": {
      "text/html": [
       "<style  type=\"text/css\" >\n",
       "</style>  \n",
       "<table id=\"T_0a1b7ab8_3a96_11e8_9f5a_b4ae2bc9de0d\" > \n",
       "<thead>    <tr> \n",
       "        <th class=\"blank level0\" ></th> \n",
       "        <th class=\"col_heading level0 col0\" >Number of Unique Items</th> \n",
       "        <th class=\"col_heading level0 col1\" >Average Price</th> \n",
       "        <th class=\"col_heading level0 col2\" >Number of Purchases</th> \n",
       "        <th class=\"col_heading level0 col3\" >Total Revenue</th> \n",
       "    </tr></thead> \n",
       "<tbody>    <tr> \n",
       "        <th id=\"T_0a1b7ab8_3a96_11e8_9f5a_b4ae2bc9de0dlevel0_row0\" class=\"row_heading level0 row0\" >0</th> \n",
       "        <td id=\"T_0a1b7ab8_3a96_11e8_9f5a_b4ae2bc9de0drow0_col0\" class=\"data row0 col0\" >179</td> \n",
       "        <td id=\"T_0a1b7ab8_3a96_11e8_9f5a_b4ae2bc9de0drow0_col1\" class=\"data row0 col1\" >$2.93</td> \n",
       "        <td id=\"T_0a1b7ab8_3a96_11e8_9f5a_b4ae2bc9de0drow0_col2\" class=\"data row0 col2\" >780</td> \n",
       "        <td id=\"T_0a1b7ab8_3a96_11e8_9f5a_b4ae2bc9de0drow0_col3\" class=\"data row0 col3\" >$2286.33</td> \n",
       "    </tr></tbody> \n",
       "</table> "
      ],
      "text/plain": [
       "<pandas.io.formats.style.Styler at 0x2294e48a3c8>"
      ]
     },
     "execution_count": 17,
     "metadata": {},
     "output_type": "execute_result"
    }
   ],
   "source": [
    "#Holds Numbers\n",
    "purchasing_analysis = {}\n",
    "\n",
    "#Pulling the Data from orginal_df\n",
    "purchasing_analysis['Number of Unique Items'] = orginal_df['Item Name'].nunique()\n",
    "purchasing_analysis['Average Price']=orginal_df[\"Price\"].mean()\n",
    "purchasing_analysis['Number of Purchases']=orginal_df[\"Item ID\"].count()\n",
    "purchasing_analysis['Total Revenue']=orginal_df[\"Price\"].sum()\n",
    "\n",
    "#Combines Data into a Dataframe\n",
    "purchasing_analysis_df=pd.DataFrame(data=purchasing_analysis,index=[0])\n",
    "\n",
    "#Formats the Output for Readablity\n",
    "purchasing_analysis_df=purchasing_analysis_df[['Number of Unique Items','Average Price','Number of Purchases','Total Revenue']]\n",
    "purchasing_analysis_df.style.format({'Total Revenue':'${:.2f}','Average Price':'${:.2f}'})"
   ]
  },
  {
   "cell_type": "markdown",
   "metadata": {},
   "source": [
    "# Gender Demographics\n",
    "Needs Formating in table"
   ]
  },
  {
   "cell_type": "code",
   "execution_count": 18,
   "metadata": {},
   "outputs": [
    {
     "data": {
      "text/html": [
       "<style  type=\"text/css\" >\n",
       "</style>  \n",
       "<table id=\"T_0a21c0c8_3a96_11e8_ba1a_b4ae2bc9de0d\" > \n",
       "<thead>    <tr> \n",
       "        <th class=\"blank level0\" ></th> \n",
       "        <th class=\"col_heading level0 col0\" >Total Count</th> \n",
       "        <th class=\"col_heading level0 col1\" >Percentage of Players</th> \n",
       "    </tr>    <tr> \n",
       "        <th class=\"index_name level0\" >Gender</th> \n",
       "        <th class=\"blank\" ></th> \n",
       "        <th class=\"blank\" ></th> \n",
       "    </tr></thead> \n",
       "<tbody>    <tr> \n",
       "        <th id=\"T_0a21c0c8_3a96_11e8_ba1a_b4ae2bc9de0dlevel0_row0\" class=\"row_heading level0 row0\" >Female</th> \n",
       "        <td id=\"T_0a21c0c8_3a96_11e8_ba1a_b4ae2bc9de0drow0_col0\" class=\"data row0 col0\" >100</td> \n",
       "        <td id=\"T_0a21c0c8_3a96_11e8_ba1a_b4ae2bc9de0drow0_col1\" class=\"data row0 col1\" >17.45%</td> \n",
       "    </tr>    <tr> \n",
       "        <th id=\"T_0a21c0c8_3a96_11e8_ba1a_b4ae2bc9de0dlevel0_row1\" class=\"row_heading level0 row1\" >Male</th> \n",
       "        <td id=\"T_0a21c0c8_3a96_11e8_ba1a_b4ae2bc9de0drow1_col0\" class=\"data row1 col0\" >465</td> \n",
       "        <td id=\"T_0a21c0c8_3a96_11e8_ba1a_b4ae2bc9de0drow1_col1\" class=\"data row1 col1\" >81.15%</td> \n",
       "    </tr>    <tr> \n",
       "        <th id=\"T_0a21c0c8_3a96_11e8_ba1a_b4ae2bc9de0dlevel0_row2\" class=\"row_heading level0 row2\" >Other / Non-Disclosed</th> \n",
       "        <td id=\"T_0a21c0c8_3a96_11e8_ba1a_b4ae2bc9de0drow2_col0\" class=\"data row2 col0\" >8</td> \n",
       "        <td id=\"T_0a21c0c8_3a96_11e8_ba1a_b4ae2bc9de0drow2_col1\" class=\"data row2 col1\" >1.40%</td> \n",
       "    </tr></tbody> \n",
       "</table> "
      ],
      "text/plain": [
       "<pandas.io.formats.style.Styler at 0x2294d9f91d0>"
      ]
     },
     "execution_count": 18,
     "metadata": {},
     "output_type": "execute_result"
    }
   ],
   "source": [
    "gender_count = orginal_df.groupby(['Gender'])\n",
    "gender_count_df = gender_count[[\"SN\"]].nunique()\n",
    "gender_count_df['Percentage of Players'] = gender_count[\"SN\"].nunique()/gender_count_df['SN'].sum()\n",
    "\n",
    "#Format Table\n",
    "gender_count_df = gender_count_df.rename(columns={\"SN\": \"Total Count\"})\n",
    "gender_count_df.style.format({'Percentage of Players':'{:.2%}'})"
   ]
  },
  {
   "cell_type": "code",
   "execution_count": 19,
   "metadata": {},
   "outputs": [
    {
     "data": {
      "text/html": [
       "<style  type=\"text/css\" >\n",
       "</style>  \n",
       "<table id=\"T_0a26093e_3a96_11e8_b2bf_b4ae2bc9de0d\" > \n",
       "<thead>    <tr> \n",
       "        <th class=\"blank level0\" ></th> \n",
       "        <th class=\"col_heading level0 col0\" >Average Purchase Price</th> \n",
       "        <th class=\"col_heading level0 col1\" >Normalized Totals</th> \n",
       "        <th class=\"col_heading level0 col2\" >Purchase Count</th> \n",
       "        <th class=\"col_heading level0 col3\" >Total Purchase Value</th> \n",
       "    </tr>    <tr> \n",
       "        <th class=\"index_name level0\" >Gender</th> \n",
       "        <th class=\"blank\" ></th> \n",
       "        <th class=\"blank\" ></th> \n",
       "        <th class=\"blank\" ></th> \n",
       "        <th class=\"blank\" ></th> \n",
       "    </tr></thead> \n",
       "<tbody>    <tr> \n",
       "        <th id=\"T_0a26093e_3a96_11e8_b2bf_b4ae2bc9de0dlevel0_row0\" class=\"row_heading level0 row0\" >Female</th> \n",
       "        <td id=\"T_0a26093e_3a96_11e8_b2bf_b4ae2bc9de0drow0_col0\" class=\"data row0 col0\" >$2.82</td> \n",
       "        <td id=\"T_0a26093e_3a96_11e8_b2bf_b4ae2bc9de0drow0_col1\" class=\"data row0 col1\" >$3.83</td> \n",
       "        <td id=\"T_0a26093e_3a96_11e8_b2bf_b4ae2bc9de0drow0_col2\" class=\"data row0 col2\" >136</td> \n",
       "        <td id=\"T_0a26093e_3a96_11e8_b2bf_b4ae2bc9de0drow0_col3\" class=\"data row0 col3\" >$382.91</td> \n",
       "    </tr>    <tr> \n",
       "        <th id=\"T_0a26093e_3a96_11e8_b2bf_b4ae2bc9de0dlevel0_row1\" class=\"row_heading level0 row1\" >Male</th> \n",
       "        <td id=\"T_0a26093e_3a96_11e8_b2bf_b4ae2bc9de0drow1_col0\" class=\"data row1 col0\" >$2.95</td> \n",
       "        <td id=\"T_0a26093e_3a96_11e8_b2bf_b4ae2bc9de0drow1_col1\" class=\"data row1 col1\" >$4.02</td> \n",
       "        <td id=\"T_0a26093e_3a96_11e8_b2bf_b4ae2bc9de0drow1_col2\" class=\"data row1 col2\" >633</td> \n",
       "        <td id=\"T_0a26093e_3a96_11e8_b2bf_b4ae2bc9de0drow1_col3\" class=\"data row1 col3\" >$1,867.68</td> \n",
       "    </tr>    <tr> \n",
       "        <th id=\"T_0a26093e_3a96_11e8_b2bf_b4ae2bc9de0dlevel0_row2\" class=\"row_heading level0 row2\" >Other / Non-Disclosed</th> \n",
       "        <td id=\"T_0a26093e_3a96_11e8_b2bf_b4ae2bc9de0drow2_col0\" class=\"data row2 col0\" >$3.25</td> \n",
       "        <td id=\"T_0a26093e_3a96_11e8_b2bf_b4ae2bc9de0drow2_col1\" class=\"data row2 col1\" >$4.47</td> \n",
       "        <td id=\"T_0a26093e_3a96_11e8_b2bf_b4ae2bc9de0drow2_col2\" class=\"data row2 col2\" >11</td> \n",
       "        <td id=\"T_0a26093e_3a96_11e8_b2bf_b4ae2bc9de0drow2_col3\" class=\"data row2 col3\" >$35.74</td> \n",
       "    </tr></tbody> \n",
       "</table> "
      ],
      "text/plain": [
       "<pandas.io.formats.style.Styler at 0x2294e48ab38>"
      ]
     },
     "execution_count": 19,
     "metadata": {},
     "output_type": "execute_result"
    }
   ],
   "source": [
    "gender_analysis = {}\n",
    "gender_analysis['Average Purchase Price'] = gender_count[\"Price\"].mean()\n",
    "gender_analysis['Total Purchase Value'] = gender_count[\"Price\"].sum()\n",
    "gender_analysis['Purchase Count'] = gender_count[\"Price\"].count()\n",
    "gender_analysis['Normalized Totals'] = gender_count[\"Price\"].sum()/gender_count[\"SN\"].nunique()\n",
    "pd.DataFrame(data=gender_analysis).style.format({'Normalized Totals':'${:,.2f}','Total Purchase Value':'${:,.2f}',\\\n",
    "                                                'Average Purchase Price':'${:,.2f}'})\n"
   ]
  },
  {
   "cell_type": "markdown",
   "metadata": {},
   "source": [
    "# **Age Demographics**\n",
    "\n",
    "* The below each broken into bins of 4 years (i.e. &lt;10, 10-14, 15-19, etc.) \n",
    "  * Purchase Count\n",
    "  * Average Purchase Price\n",
    "  * Total Purchase Value\n",
    "  * Normalized Totals"
   ]
  },
  {
   "cell_type": "code",
   "execution_count": 20,
   "metadata": {},
   "outputs": [],
   "source": [
    "#age_demographics = orginal_df.groupby(['Age']).nunique()\n",
    "#age_demographics['SN'].sum()"
   ]
  },
  {
   "cell_type": "code",
   "execution_count": 21,
   "metadata": {},
   "outputs": [
    {
     "data": {
      "text/html": [
       "<style  type=\"text/css\" >\n",
       "</style>  \n",
       "<table id=\"T_0a3901f4_3a96_11e8_ae4c_b4ae2bc9de0d\" > \n",
       "<thead>    <tr> \n",
       "        <th class=\"blank level0\" ></th> \n",
       "        <th class=\"col_heading level0 col0\" >Total Count</th> \n",
       "        <th class=\"col_heading level0 col1\" >Percentage of Players</th> \n",
       "    </tr>    <tr> \n",
       "        <th class=\"index_name level0\" >Catagory</th> \n",
       "        <th class=\"blank\" ></th> \n",
       "        <th class=\"blank\" ></th> \n",
       "    </tr></thead> \n",
       "<tbody>    <tr> \n",
       "        <th id=\"T_0a3901f4_3a96_11e8_ae4c_b4ae2bc9de0dlevel0_row0\" class=\"row_heading level0 row0\" ><10</th> \n",
       "        <td id=\"T_0a3901f4_3a96_11e8_ae4c_b4ae2bc9de0drow0_col0\" class=\"data row0 col0\" >22</td> \n",
       "        <td id=\"T_0a3901f4_3a96_11e8_ae4c_b4ae2bc9de0drow0_col1\" class=\"data row0 col1\" >3.84%</td> \n",
       "    </tr>    <tr> \n",
       "        <th id=\"T_0a3901f4_3a96_11e8_ae4c_b4ae2bc9de0dlevel0_row1\" class=\"row_heading level0 row1\" >10-14</th> \n",
       "        <td id=\"T_0a3901f4_3a96_11e8_ae4c_b4ae2bc9de0drow1_col0\" class=\"data row1 col0\" >20</td> \n",
       "        <td id=\"T_0a3901f4_3a96_11e8_ae4c_b4ae2bc9de0drow1_col1\" class=\"data row1 col1\" >3.49%</td> \n",
       "    </tr>    <tr> \n",
       "        <th id=\"T_0a3901f4_3a96_11e8_ae4c_b4ae2bc9de0dlevel0_row2\" class=\"row_heading level0 row2\" >15-19</th> \n",
       "        <td id=\"T_0a3901f4_3a96_11e8_ae4c_b4ae2bc9de0drow2_col0\" class=\"data row2 col0\" >100</td> \n",
       "        <td id=\"T_0a3901f4_3a96_11e8_ae4c_b4ae2bc9de0drow2_col1\" class=\"data row2 col1\" >17.45%</td> \n",
       "    </tr>    <tr> \n",
       "        <th id=\"T_0a3901f4_3a96_11e8_ae4c_b4ae2bc9de0dlevel0_row3\" class=\"row_heading level0 row3\" >20-24</th> \n",
       "        <td id=\"T_0a3901f4_3a96_11e8_ae4c_b4ae2bc9de0drow3_col0\" class=\"data row3 col0\" >259</td> \n",
       "        <td id=\"T_0a3901f4_3a96_11e8_ae4c_b4ae2bc9de0drow3_col1\" class=\"data row3 col1\" >45.20%</td> \n",
       "    </tr>    <tr> \n",
       "        <th id=\"T_0a3901f4_3a96_11e8_ae4c_b4ae2bc9de0dlevel0_row4\" class=\"row_heading level0 row4\" >25-29</th> \n",
       "        <td id=\"T_0a3901f4_3a96_11e8_ae4c_b4ae2bc9de0drow4_col0\" class=\"data row4 col0\" >87</td> \n",
       "        <td id=\"T_0a3901f4_3a96_11e8_ae4c_b4ae2bc9de0drow4_col1\" class=\"data row4 col1\" >15.18%</td> \n",
       "    </tr>    <tr> \n",
       "        <th id=\"T_0a3901f4_3a96_11e8_ae4c_b4ae2bc9de0dlevel0_row5\" class=\"row_heading level0 row5\" >30-34</th> \n",
       "        <td id=\"T_0a3901f4_3a96_11e8_ae4c_b4ae2bc9de0drow5_col0\" class=\"data row5 col0\" >47</td> \n",
       "        <td id=\"T_0a3901f4_3a96_11e8_ae4c_b4ae2bc9de0drow5_col1\" class=\"data row5 col1\" >8.20%</td> \n",
       "    </tr>    <tr> \n",
       "        <th id=\"T_0a3901f4_3a96_11e8_ae4c_b4ae2bc9de0dlevel0_row6\" class=\"row_heading level0 row6\" >35-39</th> \n",
       "        <td id=\"T_0a3901f4_3a96_11e8_ae4c_b4ae2bc9de0drow6_col0\" class=\"data row6 col0\" >27</td> \n",
       "        <td id=\"T_0a3901f4_3a96_11e8_ae4c_b4ae2bc9de0drow6_col1\" class=\"data row6 col1\" >4.71%</td> \n",
       "    </tr>    <tr> \n",
       "        <th id=\"T_0a3901f4_3a96_11e8_ae4c_b4ae2bc9de0dlevel0_row7\" class=\"row_heading level0 row7\" >40+</th> \n",
       "        <td id=\"T_0a3901f4_3a96_11e8_ae4c_b4ae2bc9de0drow7_col0\" class=\"data row7 col0\" >11</td> \n",
       "        <td id=\"T_0a3901f4_3a96_11e8_ae4c_b4ae2bc9de0drow7_col1\" class=\"data row7 col1\" >1.92%</td> \n",
       "    </tr></tbody> \n",
       "</table> "
      ],
      "text/plain": [
       "<pandas.io.formats.style.Styler at 0x2294e45bf60>"
      ]
     },
     "execution_count": 21,
     "metadata": {},
     "output_type": "execute_result"
    }
   ],
   "source": [
    "age_demographics = orginal_df[['Age','SN','Price']]\n",
    "bins = [0, 10, 14, 19, 24, 29, 34, 39, 999]\n",
    "group_names = ['<10', '10-14', '15-19', '20-24', '25-29','30-34','35-39','40+']\n",
    "age_demographics=age_demographics.reset_index(drop=True)\n",
    "age_demographics['Catagory']=pd.cut(age_demographics['Age'], bins, labels=group_names)\n",
    "age_catagory_df = age_demographics.groupby(['Catagory']).nunique()\n",
    "age_total_p_df = age_demographics.groupby(['Catagory']).count()\n",
    "\n",
    "age_price_df = age_demographics.groupby(['Catagory']).sum()\n",
    "total_number = age_catagory_df['SN'].sum()\n",
    "age_catagory_df2 = age_total_p_df[['SN']]\n",
    "age_catagory_df2=age_catagory_df2.reset_index()\n",
    "age_price_df = age_price_df.reset_index()\n",
    "\n",
    "catagory_demographics_df = age_catagory_df\n",
    "catagory_demographics_df = catagory_demographics_df.drop(columns=['Catagory','Age'])\n",
    "\n",
    "#purchase count by catagory needs renaming\n",
    "catagory_demographics_df = catagory_demographics_df.reset_index()\n",
    "catagory_demographics_df['Percentage of Players'] = catagory_demographics_df['SN']/total_number\n",
    "catagory_demographics_df = catagory_demographics_df[['Catagory','SN','Percentage of Players']].set_index('Catagory')\n",
    "catagory_final_df = catagory_demographics_df.rename(columns={'SN':'Total Count'})\n",
    "catagory_demographics_df = catagory_demographics_df.reset_index()\n",
    "catagory_final_df.style.format({'Percentage of Players':'{:.2%}'})\n"
   ]
  },
  {
   "cell_type": "code",
   "execution_count": 22,
   "metadata": {},
   "outputs": [
    {
     "data": {
      "text/html": [
       "<style  type=\"text/css\" >\n",
       "</style>  \n",
       "<table id=\"T_0a3cfc4a_3a96_11e8_aafe_b4ae2bc9de0d\" > \n",
       "<thead>    <tr> \n",
       "        <th class=\"blank level0\" ></th> \n",
       "        <th class=\"col_heading level0 col0\" >Purchase Count</th> \n",
       "        <th class=\"col_heading level0 col1\" >Average Spent</th> \n",
       "        <th class=\"col_heading level0 col2\" >Total Purchase Value</th> \n",
       "        <th class=\"col_heading level0 col3\" >Normalized Totals</th> \n",
       "    </tr>    <tr> \n",
       "        <th class=\"index_name level0\" >Catagory</th> \n",
       "        <th class=\"blank\" ></th> \n",
       "        <th class=\"blank\" ></th> \n",
       "        <th class=\"blank\" ></th> \n",
       "        <th class=\"blank\" ></th> \n",
       "    </tr></thead> \n",
       "<tbody>    <tr> \n",
       "        <th id=\"T_0a3cfc4a_3a96_11e8_aafe_b4ae2bc9de0dlevel0_row0\" class=\"row_heading level0 row0\" ><10</th> \n",
       "        <td id=\"T_0a3cfc4a_3a96_11e8_aafe_b4ae2bc9de0drow0_col0\" class=\"data row0 col0\" >32</td> \n",
       "        <td id=\"T_0a3cfc4a_3a96_11e8_aafe_b4ae2bc9de0drow0_col1\" class=\"data row0 col1\" >$4.39</td> \n",
       "        <td id=\"T_0a3cfc4a_3a96_11e8_aafe_b4ae2bc9de0drow0_col2\" class=\"data row0 col2\" >$96.62</td> \n",
       "        <td id=\"T_0a3cfc4a_3a96_11e8_aafe_b4ae2bc9de0drow0_col3\" class=\"data row0 col3\" >$3.02</td> \n",
       "    </tr>    <tr> \n",
       "        <th id=\"T_0a3cfc4a_3a96_11e8_aafe_b4ae2bc9de0dlevel0_row1\" class=\"row_heading level0 row1\" >10-14</th> \n",
       "        <td id=\"T_0a3cfc4a_3a96_11e8_aafe_b4ae2bc9de0drow1_col0\" class=\"data row1 col0\" >31</td> \n",
       "        <td id=\"T_0a3cfc4a_3a96_11e8_aafe_b4ae2bc9de0drow1_col1\" class=\"data row1 col1\" >$4.19</td> \n",
       "        <td id=\"T_0a3cfc4a_3a96_11e8_aafe_b4ae2bc9de0drow1_col2\" class=\"data row1 col2\" >$83.79</td> \n",
       "        <td id=\"T_0a3cfc4a_3a96_11e8_aafe_b4ae2bc9de0drow1_col3\" class=\"data row1 col3\" >$2.70</td> \n",
       "    </tr>    <tr> \n",
       "        <th id=\"T_0a3cfc4a_3a96_11e8_aafe_b4ae2bc9de0dlevel0_row2\" class=\"row_heading level0 row2\" >15-19</th> \n",
       "        <td id=\"T_0a3cfc4a_3a96_11e8_aafe_b4ae2bc9de0drow2_col0\" class=\"data row2 col0\" >133</td> \n",
       "        <td id=\"T_0a3cfc4a_3a96_11e8_aafe_b4ae2bc9de0drow2_col1\" class=\"data row2 col1\" >$3.86</td> \n",
       "        <td id=\"T_0a3cfc4a_3a96_11e8_aafe_b4ae2bc9de0drow2_col2\" class=\"data row2 col2\" >$386.42</td> \n",
       "        <td id=\"T_0a3cfc4a_3a96_11e8_aafe_b4ae2bc9de0drow2_col3\" class=\"data row2 col3\" >$2.91</td> \n",
       "    </tr>    <tr> \n",
       "        <th id=\"T_0a3cfc4a_3a96_11e8_aafe_b4ae2bc9de0dlevel0_row3\" class=\"row_heading level0 row3\" >20-24</th> \n",
       "        <td id=\"T_0a3cfc4a_3a96_11e8_aafe_b4ae2bc9de0drow3_col0\" class=\"data row3 col0\" >336</td> \n",
       "        <td id=\"T_0a3cfc4a_3a96_11e8_aafe_b4ae2bc9de0drow3_col1\" class=\"data row3 col1\" >$3.78</td> \n",
       "        <td id=\"T_0a3cfc4a_3a96_11e8_aafe_b4ae2bc9de0drow3_col2\" class=\"data row3 col2\" >$978.77</td> \n",
       "        <td id=\"T_0a3cfc4a_3a96_11e8_aafe_b4ae2bc9de0drow3_col3\" class=\"data row3 col3\" >$2.91</td> \n",
       "    </tr>    <tr> \n",
       "        <th id=\"T_0a3cfc4a_3a96_11e8_aafe_b4ae2bc9de0dlevel0_row4\" class=\"row_heading level0 row4\" >25-29</th> \n",
       "        <td id=\"T_0a3cfc4a_3a96_11e8_aafe_b4ae2bc9de0drow4_col0\" class=\"data row4 col0\" >125</td> \n",
       "        <td id=\"T_0a3cfc4a_3a96_11e8_aafe_b4ae2bc9de0drow4_col1\" class=\"data row4 col1\" >$4.26</td> \n",
       "        <td id=\"T_0a3cfc4a_3a96_11e8_aafe_b4ae2bc9de0drow4_col2\" class=\"data row4 col2\" >$370.33</td> \n",
       "        <td id=\"T_0a3cfc4a_3a96_11e8_aafe_b4ae2bc9de0drow4_col3\" class=\"data row4 col3\" >$2.96</td> \n",
       "    </tr>    <tr> \n",
       "        <th id=\"T_0a3cfc4a_3a96_11e8_aafe_b4ae2bc9de0dlevel0_row5\" class=\"row_heading level0 row5\" >30-34</th> \n",
       "        <td id=\"T_0a3cfc4a_3a96_11e8_aafe_b4ae2bc9de0drow5_col0\" class=\"data row5 col0\" >64</td> \n",
       "        <td id=\"T_0a3cfc4a_3a96_11e8_aafe_b4ae2bc9de0drow5_col1\" class=\"data row5 col1\" >$4.20</td> \n",
       "        <td id=\"T_0a3cfc4a_3a96_11e8_aafe_b4ae2bc9de0drow5_col2\" class=\"data row5 col2\" >$197.25</td> \n",
       "        <td id=\"T_0a3cfc4a_3a96_11e8_aafe_b4ae2bc9de0drow5_col3\" class=\"data row5 col3\" >$3.08</td> \n",
       "    </tr>    <tr> \n",
       "        <th id=\"T_0a3cfc4a_3a96_11e8_aafe_b4ae2bc9de0dlevel0_row6\" class=\"row_heading level0 row6\" >35-39</th> \n",
       "        <td id=\"T_0a3cfc4a_3a96_11e8_aafe_b4ae2bc9de0drow6_col0\" class=\"data row6 col0\" >42</td> \n",
       "        <td id=\"T_0a3cfc4a_3a96_11e8_aafe_b4ae2bc9de0drow6_col1\" class=\"data row6 col1\" >$4.42</td> \n",
       "        <td id=\"T_0a3cfc4a_3a96_11e8_aafe_b4ae2bc9de0drow6_col2\" class=\"data row6 col2\" >$119.40</td> \n",
       "        <td id=\"T_0a3cfc4a_3a96_11e8_aafe_b4ae2bc9de0drow6_col3\" class=\"data row6 col3\" >$2.84</td> \n",
       "    </tr>    <tr> \n",
       "        <th id=\"T_0a3cfc4a_3a96_11e8_aafe_b4ae2bc9de0dlevel0_row7\" class=\"row_heading level0 row7\" >40+</th> \n",
       "        <td id=\"T_0a3cfc4a_3a96_11e8_aafe_b4ae2bc9de0drow7_col0\" class=\"data row7 col0\" >17</td> \n",
       "        <td id=\"T_0a3cfc4a_3a96_11e8_aafe_b4ae2bc9de0drow7_col1\" class=\"data row7 col1\" >$4.89</td> \n",
       "        <td id=\"T_0a3cfc4a_3a96_11e8_aafe_b4ae2bc9de0drow7_col2\" class=\"data row7 col2\" >$53.75</td> \n",
       "        <td id=\"T_0a3cfc4a_3a96_11e8_aafe_b4ae2bc9de0drow7_col3\" class=\"data row7 col3\" >$3.16</td> \n",
       "    </tr></tbody> \n",
       "</table> "
      ],
      "text/plain": [
       "<pandas.io.formats.style.Styler at 0x2294e481550>"
      ]
     },
     "execution_count": 22,
     "metadata": {},
     "output_type": "execute_result"
    }
   ],
   "source": [
    "age_price_df['Average Spent'] =  age_price_df['Price']/catagory_demographics_df['SN']\n",
    "age_price_df['Normalized Totals'] = age_price_df['Price']/age_catagory_df2[\"SN\"]\n",
    "age_price_df['Purchase Count'] = age_catagory_df2[\"SN\"]\n",
    "age_display = age_price_df[['Catagory','Purchase Count','Average Spent','Price','Normalized Totals']]\n",
    "\n",
    "age_display = age_display.rename(columns={'Price':'Total Purchase Value'})\n",
    "age_display = age_display.set_index(['Catagory']).style.format({'Normalized Totals':'${:,.2f}','Total Purchase Value':'${:,.2f}',\\\n",
    "                            'Average Purchase Price':'${:,.2f}','Average Spent':'${:,.2f}'})\n",
    "age_display"
   ]
  },
  {
   "cell_type": "markdown",
   "metadata": {},
   "source": [
    "# **Top Spenders**\n",
    "\n",
    "* Identify the the top 5 spenders in the game by total purchase value, then list (in a table):\n",
    "  * SN\n",
    "  * Purchase Count\n",
    "  * Average Purchase Price\n",
    "  * Total Purchase Value"
   ]
  },
  {
   "cell_type": "code",
   "execution_count": 23,
   "metadata": {
    "scrolled": true
   },
   "outputs": [
    {
     "data": {
      "text/html": [
       "<style  type=\"text/css\" >\n",
       "</style>  \n",
       "<table id=\"T_0a49d642_3a96_11e8_9982_b4ae2bc9de0d\" > \n",
       "<thead>    <tr> \n",
       "        <th class=\"blank level0\" ></th> \n",
       "        <th class=\"col_heading level0 col0\" >Purchase Count</th> \n",
       "        <th class=\"col_heading level0 col1\" >Average Purchase Price</th> \n",
       "        <th class=\"col_heading level0 col2\" >Total Purchase Value</th> \n",
       "    </tr>    <tr> \n",
       "        <th class=\"index_name level0\" >SN</th> \n",
       "        <th class=\"blank\" ></th> \n",
       "        <th class=\"blank\" ></th> \n",
       "        <th class=\"blank\" ></th> \n",
       "    </tr></thead> \n",
       "<tbody>    <tr> \n",
       "        <th id=\"T_0a49d642_3a96_11e8_9982_b4ae2bc9de0dlevel0_row0\" class=\"row_heading level0 row0\" >Undirrala66</th> \n",
       "        <td id=\"T_0a49d642_3a96_11e8_9982_b4ae2bc9de0drow0_col0\" class=\"data row0 col0\" >5</td> \n",
       "        <td id=\"T_0a49d642_3a96_11e8_9982_b4ae2bc9de0drow0_col1\" class=\"data row0 col1\" >$3.41</td> \n",
       "        <td id=\"T_0a49d642_3a96_11e8_9982_b4ae2bc9de0drow0_col2\" class=\"data row0 col2\" >$17.06</td> \n",
       "    </tr>    <tr> \n",
       "        <th id=\"T_0a49d642_3a96_11e8_9982_b4ae2bc9de0dlevel0_row1\" class=\"row_heading level0 row1\" >Saedue76</th> \n",
       "        <td id=\"T_0a49d642_3a96_11e8_9982_b4ae2bc9de0drow1_col0\" class=\"data row1 col0\" >4</td> \n",
       "        <td id=\"T_0a49d642_3a96_11e8_9982_b4ae2bc9de0drow1_col1\" class=\"data row1 col1\" >$3.39</td> \n",
       "        <td id=\"T_0a49d642_3a96_11e8_9982_b4ae2bc9de0drow1_col2\" class=\"data row1 col2\" >$13.56</td> \n",
       "    </tr>    <tr> \n",
       "        <th id=\"T_0a49d642_3a96_11e8_9982_b4ae2bc9de0dlevel0_row2\" class=\"row_heading level0 row2\" >Mindimnya67</th> \n",
       "        <td id=\"T_0a49d642_3a96_11e8_9982_b4ae2bc9de0drow2_col0\" class=\"data row2 col0\" >4</td> \n",
       "        <td id=\"T_0a49d642_3a96_11e8_9982_b4ae2bc9de0drow2_col1\" class=\"data row2 col1\" >$3.18</td> \n",
       "        <td id=\"T_0a49d642_3a96_11e8_9982_b4ae2bc9de0drow2_col2\" class=\"data row2 col2\" >$12.74</td> \n",
       "    </tr>    <tr> \n",
       "        <th id=\"T_0a49d642_3a96_11e8_9982_b4ae2bc9de0dlevel0_row3\" class=\"row_heading level0 row3\" >Haellysu29</th> \n",
       "        <td id=\"T_0a49d642_3a96_11e8_9982_b4ae2bc9de0drow3_col0\" class=\"data row3 col0\" >3</td> \n",
       "        <td id=\"T_0a49d642_3a96_11e8_9982_b4ae2bc9de0drow3_col1\" class=\"data row3 col1\" >$4.24</td> \n",
       "        <td id=\"T_0a49d642_3a96_11e8_9982_b4ae2bc9de0drow3_col2\" class=\"data row3 col2\" >$12.73</td> \n",
       "    </tr>    <tr> \n",
       "        <th id=\"T_0a49d642_3a96_11e8_9982_b4ae2bc9de0dlevel0_row4\" class=\"row_heading level0 row4\" >Eoda93</th> \n",
       "        <td id=\"T_0a49d642_3a96_11e8_9982_b4ae2bc9de0drow4_col0\" class=\"data row4 col0\" >3</td> \n",
       "        <td id=\"T_0a49d642_3a96_11e8_9982_b4ae2bc9de0drow4_col1\" class=\"data row4 col1\" >$3.86</td> \n",
       "        <td id=\"T_0a49d642_3a96_11e8_9982_b4ae2bc9de0drow4_col2\" class=\"data row4 col2\" >$11.58</td> \n",
       "    </tr></tbody> \n",
       "</table> "
      ],
      "text/plain": [
       "<pandas.io.formats.style.Styler at 0x2294e45bb70>"
      ]
     },
     "execution_count": 23,
     "metadata": {},
     "output_type": "execute_result"
    }
   ],
   "source": [
    "\n",
    "spenders_count_df = orginal_df.groupby(['SN']).count().reset_index()\n",
    "spenders_count_df=spenders_count_df.drop(columns=['Age','Gender','Item ID','Price'])\n",
    "spenders_value_df = orginal_df.groupby(['SN']).sum().reset_index()\n",
    "spenders_value_df=spenders_value_df.drop(columns=['Age','Item ID'])\n",
    "spenders_mean_df = orginal_df.groupby(['SN']).mean().reset_index()\n",
    "spenders_mean_df=spenders_mean_df.drop(columns=['Age','Item ID'])\n",
    "\n",
    "spenders_final_df = spenders_count_df\n",
    "spenders_final_df['Total Purchase Value'] = spenders_value_df['Price']\n",
    "spenders_final_df['Average Purchase Price'] = spenders_mean_df['Price']\n",
    "\n",
    "spenders_format_df = spenders_final_df.sort_values(by=['Total Purchase Value'], ascending=False).head()\n",
    "spenders_format_df=spenders_format_df.rename(columns={'Item Name':'Purchase Count'})\n",
    "some_df = spenders_format_df[['SN','Purchase Count','Average Purchase Price','Total Purchase Value']]\n",
    "some_df = some_df.set_index(['SN']).style.format({'Average Purchase Price':'${:,.2f}','Total Purchase Value':'${:,.2f}'})\n",
    "some_df"
   ]
  },
  {
   "cell_type": "code",
   "execution_count": 24,
   "metadata": {},
   "outputs": [],
   "source": [
    "item_count_df = orginal_df.groupby(['Item Name']).count().reset_index()\n",
    "#Purchase Count\n",
    "item_count_df=item_count_df.drop(columns=['Age','Gender','Item ID','SN'])\n",
    "#item_count_df.head()"
   ]
  },
  {
   "cell_type": "code",
   "execution_count": 25,
   "metadata": {
    "scrolled": true
   },
   "outputs": [],
   "source": [
    "item_price_df = orginal_df.groupby(['Item Name']).mean().reset_index()\n",
    "\n",
    "item_price_df = item_price_df.drop(columns=['Age','Item ID'])\n",
    "#item_price_df.head()\n",
    "#Average Price"
   ]
  },
  {
   "cell_type": "code",
   "execution_count": 26,
   "metadata": {},
   "outputs": [],
   "source": [
    "item_value_df = orginal_df.groupby(['Item Name']).sum().reset_index()\n",
    "item_value_df=item_value_df.drop(columns=['Age','Item ID'])\n",
    "#item_value_df.head()"
   ]
  },
  {
   "cell_type": "code",
   "execution_count": 27,
   "metadata": {},
   "outputs": [
    {
     "data": {
      "text/html": [
       "<style  type=\"text/css\" >\n",
       "</style>  \n",
       "<table id=\"T_0a5d4454_3a96_11e8_a4be_b4ae2bc9de0d\" > \n",
       "<thead>    <tr> \n",
       "        <th class=\"blank level0\" ></th> \n",
       "        <th class=\"col_heading level0 col0\" >Item Name</th> \n",
       "        <th class=\"col_heading level0 col1\" >Price</th> \n",
       "        <th class=\"col_heading level0 col2\" >Item Price</th> \n",
       "        <th class=\"col_heading level0 col3\" >Total Purchase Value</th> \n",
       "    </tr></thead> \n",
       "<tbody>    <tr> \n",
       "        <th id=\"T_0a5d4454_3a96_11e8_a4be_b4ae2bc9de0dlevel0_row0\" class=\"row_heading level0 row0\" >56</th> \n",
       "        <td id=\"T_0a5d4454_3a96_11e8_a4be_b4ae2bc9de0drow0_col0\" class=\"data row0 col0\" >Final Critic</td> \n",
       "        <td id=\"T_0a5d4454_3a96_11e8_a4be_b4ae2bc9de0drow0_col1\" class=\"data row0 col1\" >14</td> \n",
       "        <td id=\"T_0a5d4454_3a96_11e8_a4be_b4ae2bc9de0drow0_col2\" class=\"data row0 col2\" >$2.76</td> \n",
       "        <td id=\"T_0a5d4454_3a96_11e8_a4be_b4ae2bc9de0drow0_col3\" class=\"data row0 col3\" >$38.60</td> \n",
       "    </tr>    <tr> \n",
       "        <th id=\"T_0a5d4454_3a96_11e8_a4be_b4ae2bc9de0dlevel0_row1\" class=\"row_heading level0 row1\" >8</th> \n",
       "        <td id=\"T_0a5d4454_3a96_11e8_a4be_b4ae2bc9de0drow1_col0\" class=\"data row1 col0\" >Arcane Gem</td> \n",
       "        <td id=\"T_0a5d4454_3a96_11e8_a4be_b4ae2bc9de0drow1_col1\" class=\"data row1 col1\" >11</td> \n",
       "        <td id=\"T_0a5d4454_3a96_11e8_a4be_b4ae2bc9de0drow1_col2\" class=\"data row1 col2\" >$2.23</td> \n",
       "        <td id=\"T_0a5d4454_3a96_11e8_a4be_b4ae2bc9de0drow1_col3\" class=\"data row1 col3\" >$24.53</td> \n",
       "    </tr>    <tr> \n",
       "        <th id=\"T_0a5d4454_3a96_11e8_a4be_b4ae2bc9de0dlevel0_row2\" class=\"row_heading level0 row2\" >11</th> \n",
       "        <td id=\"T_0a5d4454_3a96_11e8_a4be_b4ae2bc9de0drow2_col0\" class=\"data row2 col0\" >Betrayal, Whisper of Grieving Widows</td> \n",
       "        <td id=\"T_0a5d4454_3a96_11e8_a4be_b4ae2bc9de0drow2_col1\" class=\"data row2 col1\" >11</td> \n",
       "        <td id=\"T_0a5d4454_3a96_11e8_a4be_b4ae2bc9de0drow2_col2\" class=\"data row2 col2\" >$2.35</td> \n",
       "        <td id=\"T_0a5d4454_3a96_11e8_a4be_b4ae2bc9de0drow2_col3\" class=\"data row2 col3\" >$25.85</td> \n",
       "    </tr>    <tr> \n",
       "        <th id=\"T_0a5d4454_3a96_11e8_a4be_b4ae2bc9de0dlevel0_row3\" class=\"row_heading level0 row3\" >137</th> \n",
       "        <td id=\"T_0a5d4454_3a96_11e8_a4be_b4ae2bc9de0drow3_col0\" class=\"data row3 col0\" >Stormcaller</td> \n",
       "        <td id=\"T_0a5d4454_3a96_11e8_a4be_b4ae2bc9de0drow3_col1\" class=\"data row3 col1\" >10</td> \n",
       "        <td id=\"T_0a5d4454_3a96_11e8_a4be_b4ae2bc9de0drow3_col2\" class=\"data row3 col2\" >$3.46</td> \n",
       "        <td id=\"T_0a5d4454_3a96_11e8_a4be_b4ae2bc9de0drow3_col3\" class=\"data row3 col3\" >$34.65</td> \n",
       "    </tr>    <tr> \n",
       "        <th id=\"T_0a5d4454_3a96_11e8_a4be_b4ae2bc9de0dlevel0_row4\" class=\"row_heading level0 row4\" >173</th> \n",
       "        <td id=\"T_0a5d4454_3a96_11e8_a4be_b4ae2bc9de0drow4_col0\" class=\"data row4 col0\" >Woeful Adamantite Claymore</td> \n",
       "        <td id=\"T_0a5d4454_3a96_11e8_a4be_b4ae2bc9de0drow4_col1\" class=\"data row4 col1\" >9</td> \n",
       "        <td id=\"T_0a5d4454_3a96_11e8_a4be_b4ae2bc9de0drow4_col2\" class=\"data row4 col2\" >$1.24</td> \n",
       "        <td id=\"T_0a5d4454_3a96_11e8_a4be_b4ae2bc9de0drow4_col3\" class=\"data row4 col3\" >$11.16</td> \n",
       "    </tr></tbody> \n",
       "</table> "
      ],
      "text/plain": [
       "<pandas.io.formats.style.Styler at 0x2294e48a7b8>"
      ]
     },
     "execution_count": 27,
     "metadata": {},
     "output_type": "execute_result"
    }
   ],
   "source": [
    "final_df = item_count_df\n",
    "final_df['Item Price'] = item_price_df['Price']\n",
    "final_df['Total Purchase Value'] = item_value_df['Price']\n",
    "final_df.sort_values(by=['Price'], ascending=False).head().style.format({'Item Price':'${:,.2f}','Total Purchase Value':'${:,.2f}'})"
   ]
  },
  {
   "cell_type": "code",
   "execution_count": 28,
   "metadata": {},
   "outputs": [
    {
     "data": {
      "text/html": [
       "<style  type=\"text/css\" >\n",
       "</style>  \n",
       "<table id=\"T_0a62781c_3a96_11e8_81b3_b4ae2bc9de0d\" > \n",
       "<thead>    <tr> \n",
       "        <th class=\"blank level0\" ></th> \n",
       "        <th class=\"col_heading level0 col0\" >Item Name</th> \n",
       "        <th class=\"col_heading level0 col1\" >Price</th> \n",
       "        <th class=\"col_heading level0 col2\" >Item Price</th> \n",
       "        <th class=\"col_heading level0 col3\" >Total Purchase Value</th> \n",
       "    </tr></thead> \n",
       "<tbody>    <tr> \n",
       "        <th id=\"T_0a62781c_3a96_11e8_81b3_b4ae2bc9de0dlevel0_row0\" class=\"row_heading level0 row0\" >56</th> \n",
       "        <td id=\"T_0a62781c_3a96_11e8_81b3_b4ae2bc9de0drow0_col0\" class=\"data row0 col0\" >Final Critic</td> \n",
       "        <td id=\"T_0a62781c_3a96_11e8_81b3_b4ae2bc9de0drow0_col1\" class=\"data row0 col1\" >14</td> \n",
       "        <td id=\"T_0a62781c_3a96_11e8_81b3_b4ae2bc9de0drow0_col2\" class=\"data row0 col2\" >$2.76</td> \n",
       "        <td id=\"T_0a62781c_3a96_11e8_81b3_b4ae2bc9de0drow0_col3\" class=\"data row0 col3\" >$38.60</td> \n",
       "    </tr>    <tr> \n",
       "        <th id=\"T_0a62781c_3a96_11e8_81b3_b4ae2bc9de0dlevel0_row1\" class=\"row_heading level0 row1\" >112</th> \n",
       "        <td id=\"T_0a62781c_3a96_11e8_81b3_b4ae2bc9de0drow1_col0\" class=\"data row1 col0\" >Retribution Axe</td> \n",
       "        <td id=\"T_0a62781c_3a96_11e8_81b3_b4ae2bc9de0drow1_col1\" class=\"data row1 col1\" >9</td> \n",
       "        <td id=\"T_0a62781c_3a96_11e8_81b3_b4ae2bc9de0drow1_col2\" class=\"data row1 col2\" >$4.14</td> \n",
       "        <td id=\"T_0a62781c_3a96_11e8_81b3_b4ae2bc9de0drow1_col3\" class=\"data row1 col3\" >$37.26</td> \n",
       "    </tr>    <tr> \n",
       "        <th id=\"T_0a62781c_3a96_11e8_81b3_b4ae2bc9de0dlevel0_row2\" class=\"row_heading level0 row2\" >137</th> \n",
       "        <td id=\"T_0a62781c_3a96_11e8_81b3_b4ae2bc9de0drow2_col0\" class=\"data row2 col0\" >Stormcaller</td> \n",
       "        <td id=\"T_0a62781c_3a96_11e8_81b3_b4ae2bc9de0drow2_col1\" class=\"data row2 col1\" >10</td> \n",
       "        <td id=\"T_0a62781c_3a96_11e8_81b3_b4ae2bc9de0drow2_col2\" class=\"data row2 col2\" >$3.46</td> \n",
       "        <td id=\"T_0a62781c_3a96_11e8_81b3_b4ae2bc9de0drow2_col3\" class=\"data row2 col3\" >$34.65</td> \n",
       "    </tr>    <tr> \n",
       "        <th id=\"T_0a62781c_3a96_11e8_81b3_b4ae2bc9de0dlevel0_row3\" class=\"row_heading level0 row3\" >132</th> \n",
       "        <td id=\"T_0a62781c_3a96_11e8_81b3_b4ae2bc9de0drow3_col0\" class=\"data row3 col0\" >Spectral Diamond Doomblade</td> \n",
       "        <td id=\"T_0a62781c_3a96_11e8_81b3_b4ae2bc9de0drow3_col1\" class=\"data row3 col1\" >7</td> \n",
       "        <td id=\"T_0a62781c_3a96_11e8_81b3_b4ae2bc9de0drow3_col2\" class=\"data row3 col2\" >$4.25</td> \n",
       "        <td id=\"T_0a62781c_3a96_11e8_81b3_b4ae2bc9de0drow3_col3\" class=\"data row3 col3\" >$29.75</td> \n",
       "    </tr>    <tr> \n",
       "        <th id=\"T_0a62781c_3a96_11e8_81b3_b4ae2bc9de0dlevel0_row4\" class=\"row_heading level0 row4\" >96</th> \n",
       "        <td id=\"T_0a62781c_3a96_11e8_81b3_b4ae2bc9de0drow4_col0\" class=\"data row4 col0\" >Orenmir</td> \n",
       "        <td id=\"T_0a62781c_3a96_11e8_81b3_b4ae2bc9de0drow4_col1\" class=\"data row4 col1\" >6</td> \n",
       "        <td id=\"T_0a62781c_3a96_11e8_81b3_b4ae2bc9de0drow4_col2\" class=\"data row4 col2\" >$4.95</td> \n",
       "        <td id=\"T_0a62781c_3a96_11e8_81b3_b4ae2bc9de0drow4_col3\" class=\"data row4 col3\" >$29.70</td> \n",
       "    </tr></tbody> \n",
       "</table> "
      ],
      "text/plain": [
       "<pandas.io.formats.style.Styler at 0x2294e481588>"
      ]
     },
     "execution_count": 28,
     "metadata": {},
     "output_type": "execute_result"
    }
   ],
   "source": [
    "final_df.sort_values(by=['Total Purchase Value'], ascending=False).head().head().style.format({'Item Price':'${:,.2f}','Total Purchase Value':'${:,.2f}'})"
   ]
  },
  {
   "cell_type": "code",
   "execution_count": null,
   "metadata": {},
   "outputs": [],
   "source": []
  }
 ],
 "metadata": {
  "kernelspec": {
   "display_name": "Python [conda env:PythonDataq]",
   "language": "python",
   "name": "conda-env-PythonDataq-py"
  },
  "language_info": {
   "codemirror_mode": {
    "name": "ipython",
    "version": 3
   },
   "file_extension": ".py",
   "mimetype": "text/x-python",
   "name": "python",
   "nbconvert_exporter": "python",
   "pygments_lexer": "ipython3",
   "version": "3.6.4"
  }
 },
 "nbformat": 4,
 "nbformat_minor": 2
}
